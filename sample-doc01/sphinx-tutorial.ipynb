{
  "cells": [
    {
      "cell_type": "markdown",
      "metadata": {
        "id": "7WZIZtpAEXEz"
      },
      "source": [
        "# はじめてのSphinx"
      ]
    },
    {
      "cell_type": "markdown",
      "metadata": {
        "id": "V_8Ee2TOEcr9"
      },
      "source": [
        "## プロジェクトの作成"
      ]
    },
    {
      "cell_type": "code",
      "execution_count": null,
      "metadata": {
        "colab": {
          "base_uri": "https://localhost:8080/"
        },
        "id": "lPb3-yibTopc",
        "outputId": "74146aa2-df42-4e9d-8610-305e4312a71b"
      },
      "outputs": [],
      "source": [
        "!sphinx-quickstart"
      ]
    },
    {
      "cell_type": "markdown",
      "metadata": {
        "id": "JAfQBTxpEgwE"
      },
      "source": [
        "## HTMLへビルド"
      ]
    },
    {
      "cell_type": "code",
      "execution_count": null,
      "metadata": {
        "colab": {
          "base_uri": "https://localhost:8080/"
        },
        "id": "eW_4Bwn_Trtx",
        "outputId": "f67c909f-3652-44e9-df5f-4e225a10662f"
      },
      "outputs": [],
      "source": [
        "!make html"
      ]
    },
    {
      "cell_type": "markdown",
      "metadata": {
        "id": "F1tJ8NXhE5oJ"
      },
      "source": [
        "## HTMLファイルのホスティング"
      ]
    },
    {
      "cell_type": "code",
      "execution_count": null,
      "metadata": {
        "colab": {
          "base_uri": "https://localhost:8080/"
        },
        "id": "qhjODXOOU4z4",
        "outputId": "9e983ebb-1dc2-47cd-9ab0-688bc055469e"
      },
      "outputs": [],
      "source": [
        "!pip install pyngrok"
      ]
    },
    {
      "cell_type": "code",
      "execution_count": null,
      "metadata": {
        "colab": {
          "base_uri": "https://localhost:8080/"
        },
        "id": "fyP9xPAFFmp6",
        "outputId": "a804d3d1-03c1-4725-c15a-45e67f687c1e"
      },
      "outputs": [],
      "source": [
        "import getpass\n",
        "\n",
        "auth_token = getpass.getpass()"
      ]
    },
    {
      "cell_type": "code",
      "execution_count": null,
      "metadata": {
        "colab": {
          "base_uri": "https://localhost:8080/"
        },
        "id": "utddC6vgYiMR",
        "outputId": "24f76f13-2a60-495a-da86-0a05df372260"
      },
      "outputs": [],
      "source": [
        "from pyngrok import conf, ngrok\n",
        "\n",
        "conf.get_default().auth_token = auth_token\n",
        "ngrok_tunnel = ngrok.connect()\n",
        "print(ngrok_tunnel)"
      ]
    },
    {
      "cell_type": "code",
      "execution_count": null,
      "metadata": {
        "colab": {
          "base_uri": "https://localhost:8080/",
          "height": 583
        },
        "id": "mNGWD-iTc-wB",
        "outputId": "f161c095-27d1-4c84-8e79-a4b3cebed07e"
      },
      "outputs": [],
      "source": [
        "import os\n",
        "import http\n",
        "import socketserver\n",
        "\n",
        "PORT = 80\n",
        "local_path = \"/content/_build/html\"\n",
        "\n",
        "\n",
        "class Handler(http.server.SimpleHTTPRequestHandler):\n",
        "    def __init__(self, *args, **kwargs):\n",
        "        super().__init__(*args, directory=local_path, **kwargs)\n",
        "\n",
        "\n",
        "with socketserver.TCPServer((\"\", PORT), Handler) as httpd:\n",
        "    print(\"serving at port\", PORT)\n",
        "    httpd.serve_forever()"
      ]
    },
    {
      "cell_type": "markdown",
      "metadata": {
        "id": "84WzcZsoGQc5"
      },
      "source": [
        "## Markdownによる記述"
      ]
    },
    {
      "cell_type": "code",
      "execution_count": null,
      "metadata": {
        "colab": {
          "base_uri": "https://localhost:8080/"
        },
        "id": "gLXyjtbsC8Z1",
        "outputId": "7d4e5cb0-1f19-43bb-8cb3-2993d473708a"
      },
      "outputs": [],
      "source": [
        "!pip install myst-parser"
      ]
    },
    {
      "cell_type": "markdown",
      "metadata": {
        "id": "MHmmqcvlOolt"
      },
      "source": [
        "## conf.pyの編集"
      ]
    },
    {
      "cell_type": "code",
      "execution_count": null,
      "metadata": {
        "colab": {
          "base_uri": "https://localhost:8080/"
        },
        "id": "cTCVw63mKtlU",
        "outputId": "d4badd1d-b8d8-4e2a-8c60-57438d255fcb"
      },
      "outputs": [],
      "source": [
        "%%file conf.py\n",
        "\n",
        "project = 'sample'\n",
        "copyright = '2024, your_name'\n",
        "author = 'your_name'\n",
        "extensions = ['myst_parser']\n",
        "templates_path = ['_templates']\n",
        "exclude_patterns = ['_build', 'Thumbs.db', '.DS_Store']\n",
        "html_theme = 'alabaster'\n",
        "html_static_path = ['_static']"
      ]
    },
    {
      "cell_type": "markdown",
      "metadata": {
        "id": "4Fjpb99bOriZ"
      },
      "source": [
        "## hello.mdの作成"
      ]
    },
    {
      "cell_type": "code",
      "execution_count": null,
      "metadata": {
        "colab": {
          "base_uri": "https://localhost:8080/"
        },
        "id": "kyB9EdJDLKGN",
        "outputId": "989535fd-dda6-48ea-c4e9-e2d8a7a599ef"
      },
      "outputs": [],
      "source": [
        "%%file hello.md\n",
        "\n",
        "# はじめてのSphinx\n",
        "\n",
        "[Markdown](https://daringfireball.net/projects/markdown/)記法にしたがって記述できます。\n",
        "\n",
        "## リスト\n",
        "\n",
        "順序なしリスト\n",
        "\n",
        "- グー\n",
        "- チョキ\n",
        "- パー\n",
        "\n",
        "順序付きリスト\n",
        "\n",
        "1. ウォード\n",
        "2. トラウト\n",
        "3. 大谷\n",
        "\n",
        "## ブロッククォート\n",
        "\n",
        "> 引用\n",
        ">> ネストされた引用"
      ]
    },
    {
      "cell_type": "markdown",
      "metadata": {
        "id": "q9NqGOXhOvJJ"
      },
      "source": [
        "## index.rstの編集"
      ]
    },
    {
      "cell_type": "code",
      "execution_count": null,
      "metadata": {
        "colab": {
          "base_uri": "https://localhost:8080/"
        },
        "id": "hLb-N1PjK4ms",
        "outputId": "cb02ba9d-e432-4c43-cfdf-504d05ec9bed"
      },
      "outputs": [],
      "source": [
        "%%file index.rst\n",
        "\n",
        ".. sample documentation master file, created by\n",
        "   sphinx-quickstart on Sat Jan 13 14:30:31 2024.\n",
        "   You can adapt this file completely to your liking, but it should at least\n",
        "   contain the root `toctree` directive.\n",
        "\n",
        "Welcome to sample's documentation!\n",
        "==================================\n",
        "\n",
        ".. toctree::\n",
        "   :maxdepth: 2\n",
        "   :caption: Contents:\n",
        "\n",
        "   hello\n",
        "\n",
        "Indices and tables\n",
        "==================\n",
        "\n",
        "* :ref:`genindex`\n",
        "* :ref:`modindex`\n",
        "* :ref:`search`"
      ]
    },
    {
      "cell_type": "markdown",
      "metadata": {
        "id": "zSkyuxx1O3b8"
      },
      "source": [
        "## HTMLへビルド"
      ]
    },
    {
      "cell_type": "code",
      "execution_count": null,
      "metadata": {
        "colab": {
          "base_uri": "https://localhost:8080/"
        },
        "id": "GMmbol3lLHcU",
        "outputId": "f61cafa0-98cb-4a21-d2ec-c66bda269b31"
      },
      "outputs": [],
      "source": [
        "!make html"
      ]
    },
    {
      "cell_type": "markdown",
      "metadata": {
        "id": "mWa0-Z3FPmhw"
      },
      "source": [
        "## HTMLファイルのホスティング"
      ]
    },
    {
      "cell_type": "code",
      "execution_count": null,
      "metadata": {
        "colab": {
          "base_uri": "https://localhost:8080/",
          "height": 653
        },
        "id": "FCfKcEO-LSo8",
        "outputId": "e434662f-64b8-411f-e79b-e2eed9758880"
      },
      "outputs": [],
      "source": [
        "conf.get_default().auth_token = auth_token\n",
        "ngrok_tunnel = ngrok.connect()\n",
        "print(ngrok_tunnel)\n",
        "\n",
        "with socketserver.TCPServer((\"\", PORT), Handler) as httpd:\n",
        "    print(\"serving at port\", PORT)\n",
        "    httpd.serve_forever()"
      ]
    },
    {
      "cell_type": "code",
      "execution_count": null,
      "metadata": {
        "id": "eOuUhB3XPaLs"
      },
      "outputs": [],
      "source": []
    }
  ],
  "metadata": {
    "colab": {
      "provenance": []
    },
    "kernelspec": {
      "display_name": "Python 3",
      "name": "python3"
    },
    "language_info": {
      "name": "python"
    }
  },
  "nbformat": 4,
  "nbformat_minor": 0
}
